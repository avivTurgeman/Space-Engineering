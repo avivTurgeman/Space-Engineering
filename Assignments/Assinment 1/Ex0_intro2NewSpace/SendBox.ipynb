{
 "cells": [
  {
   "cell_type": "code",
   "execution_count": 1,
   "metadata": {},
   "outputs": [],
   "source": [
    "import math\n",
    "\n",
    "MAIN_ENG_F = 430\n",
    "SECOND_ENG_F = 25\n",
    "ang = 58.3\n",
    "weight = 165 + 121\n",
    "full_thrust = MAIN_ENG_F + SECOND_ENG_F * 8\n",
    "\n",
    "acc_val = 0.7 * (full_thrust/weight)\n",
    "\n",
    "ang_rad = math.radians(ang)\n",
    "h_acc = math.sin(ang_rad) * acc_val\n",
    "v_acc = math.cos(ang_rad) * acc_val"
   ]
  },
  {
   "cell_type": "code",
   "execution_count": 4,
   "metadata": {},
   "outputs": [
    {
     "data": {
      "text/plain": [
       "0.8102552381918534"
      ]
     },
     "execution_count": 4,
     "metadata": {},
     "output_type": "execute_result"
    }
   ],
   "source": [
    "v_acc"
   ]
  },
  {
   "cell_type": "code",
   "execution_count": null,
   "metadata": {},
   "outputs": [],
   "source": []
  }
 ],
 "metadata": {
  "kernelspec": {
   "display_name": "Python 3",
   "language": "python",
   "name": "python3"
  },
  "language_info": {
   "codemirror_mode": {
    "name": "ipython",
    "version": 3
   },
   "file_extension": ".py",
   "mimetype": "text/x-python",
   "name": "python",
   "nbconvert_exporter": "python",
   "pygments_lexer": "ipython3",
   "version": "3.12.5"
  }
 },
 "nbformat": 4,
 "nbformat_minor": 2
}
