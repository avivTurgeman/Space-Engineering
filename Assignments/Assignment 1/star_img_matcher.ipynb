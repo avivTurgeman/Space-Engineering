{
 "cells": [
  {
   "cell_type": "code",
   "id": "initial_id",
   "metadata": {
    "collapsed": true,
    "ExecuteTime": {
     "end_time": "2025-04-30T13:36:14.276409Z",
     "start_time": "2025-04-30T13:36:14.261406Z"
    }
   },
   "source": [
    ""
   ],
   "outputs": [],
   "execution_count": null
  },
  {
   "metadata": {},
   "cell_type": "markdown",
   "source": [
    "Describe an algorithm that compares 2 images - one with few stars and one with many stars\n",
    "The algorithm matches each star in the small image to its corresponding star in the large image."
   ],
   "id": "d605ed7786710698"
  },
  {
   "metadata": {},
   "cell_type": "markdown",
   "source": [
    "- Inputs:\n",
    "    img_S: sparse image\n",
    "    img_L: dense image\n",
    "    X: The number of stars to use for alignment (e.g., 2 or 3).\n",
    "\n",
    "- Algorithm:\n",
    "    S ← A list of coordinates of stars in the sparse image and their radius and brightness (x,y,r,b).\n",
    "    L ← A list of coordinates of stars in the dense image their radius and brightness. (|L| > |S|).\n",
    "    1) bright_s ← 5 brightest stars of S\n",
    "\n",
    "    2) Generate Subsets:\n",
    "        Iterate over all combinations of X stars from bright_s — denote each as S_X.\n",
    "        For each S_X, iterate over all combinations of X stars from L — denote each as L_X.\n",
    "\n",
    "    3) Compute Transformation:\n",
    "        For each pair (S_X, L_X):\n",
    "        Estimate a geometric transformation (e.g., scaling + translation) that maps S_X onto L_X.\n",
    "        Apply this transformation to all stars in S, resulting in a transformed set S'.\n",
    "    4) Evaluate Fit:\n",
    "        For each star in S', check if there is a nearby star in L (within some small threshold distance ε).\n",
    "        Count the number of unmatched stars (stars in S' with no close counterpart in L).\n",
    "    5) Select Best Match:\n",
    "        Keep track of the transformation with the fewest unmatched stars.\n",
    "        Return this transformation (and optionally, the matching star pairs).\n",
    "\n",
    "    6) Output:\n",
    "        - The best matching transformation from the sparse image to the dense one.\n",
    "        - The minimal number of unmatched stars.\n",
    "        - Optionally, the list of matched star pairs.\n",
    "\n",
    "\n"
   ],
   "id": "b8a37c63323558bc"
  },
  {
   "metadata": {
    "ExecuteTime": {
     "end_time": "2025-04-30T13:36:14.338836Z",
     "start_time": "2025-04-30T13:36:14.324841Z"
    }
   },
   "cell_type": "code",
   "source": [
    "import numpy as np\n",
    "from itertools import combinations\n",
    "from scipy.spatial.distance import cdist\n",
    "from sqlalchemy import false\n",
    "\n",
    "from process_star_img import detect_stars\n",
    "\n",
    "\n",
    "def compute_similarity_transform(src, dst):\n",
    "    src = np.array(src)\n",
    "    dst = np.array(dst)\n",
    "\n",
    "    src_mean = np.mean(src, axis=0)\n",
    "    dst_mean = np.mean(dst, axis=0)\n",
    "\n",
    "    src_centered = src - src_mean\n",
    "    dst_centered = dst - dst_mean\n",
    "\n",
    "    U, S, Vt = np.linalg.svd(np.dot(dst_centered.T, src_centered))\n",
    "    R = np.dot(U, Vt)\n",
    "\n",
    "    scale = np.trace(np.dot(dst_centered.T, np.dot(R, src_centered))) / np.sum(src_centered ** 2)\n",
    "    translation = dst_mean - scale * np.dot(src_mean, R.T)\n",
    "\n",
    "    return scale, R, translation\n",
    "\n",
    "\n",
    "def apply_transform(points, scale, rotation, translation, scale_radius=False):\n",
    "    points = np.array(points)\n",
    "    transformed = points.copy()\n",
    "    transformed[:, 0:2] = scale * np.dot(points[:, 0:2], rotation.T) + translation\n",
    "    if scale_radius:\n",
    "        transformed[:, 2] = scale * points[:, 2]\n",
    "    return transformed\n",
    "\n",
    "\n",
    "def find_matches(transformed_points, original_sparse, target_points, epsilon):\n",
    "    matches = []\n",
    "    distances = cdist(transformed_points, target_points)\n",
    "    for i, row in enumerate(distances):\n",
    "        min_dist = np.min(row)\n",
    "        if min_dist <= epsilon:\n",
    "            j = np.argmin(row)\n",
    "            matches.append([original_sparse[i].tolist(), target_points[j].tolist()])\n",
    "    return matches\n",
    "\n",
    "\n",
    "def is_same_star(star1, star2, epsilon):\n",
    "    x_1, y_1, r_1, b_1 = star1\n",
    "    x_2, y_2, r_2, b_2 = star2\n",
    "    dif_x = abs(x_1 - x_2)\n",
    "    dif_y = abs(y_1 - y_2)\n",
    "    dif_r = abs(r_1 - r_2)\n",
    "\n",
    "    return dif_x <= epsilon and dif_y <= epsilon\n",
    "\n",
    "\n",
    "def match_stars(sparse_path, dense_path, X=2, epsilon=2.0, max_dense_combinations=10000):\n",
    "    sparse = detect_stars(sparse_path)\n",
    "    dense = detect_stars(dense_path)\n",
    "    sparse = np.array(sparse)\n",
    "    dense = np.array(dense)\n",
    "\n",
    "    print(\"num of stars in sparse:\", len(sparse))\n",
    "    print(\"num of stars in dense:\", len(dense))\n",
    "\n",
    "    # Sort sparse by brightness and keep brightests\n",
    "    sparse = sorted(sparse, key=lambda s: s[2], reverse=True)[:8]\n",
    "\n",
    "    best_mismatch = float('inf')\n",
    "    best_transform = None\n",
    "    best_matches = []\n",
    "\n",
    "    sparse_combos = list(combinations(range(len(sparse)), X))\n",
    "    dense_combos = list(combinations(range(len(dense)), X))\n",
    "\n",
    "    if len(dense_combos) > max_dense_combinations:\n",
    "        print(\" the number of combinations exceeds a threshold\")\n",
    "        np.random.seed(0)\n",
    "        sampled = np.random.choice(len(dense_combos), max_dense_combinations, replace=False)\n",
    "        dense_combos = [dense_combos[i] for i in sampled]\n",
    "\n",
    "    for s_idx in sparse_combos:\n",
    "        S_X = [sparse[i][0:2] for i in s_idx]\n",
    "\n",
    "        for d_idx in dense_combos:\n",
    "            L_X = [dense[i][0:2] for i in d_idx]\n",
    "\n",
    "            scale, R, translation = compute_similarity_transform(S_X, L_X)\n",
    "            if scale is None:\n",
    "                continue\n",
    "\n",
    "            transformed_sparse = apply_transform(sparse, scale, R, translation, True)\n",
    "            # go through each star in dence and check if it have a fitting star in transformed sparse (check if they have the same x,y coardinants +- epsilon) count haw may mismatches we found\n",
    "\n",
    "            mismatches = 0\n",
    "            matches = []\n",
    "\n",
    "            for star_1 in dense:\n",
    "                found = False\n",
    "                for star_2 in transformed_sparse:\n",
    "                    if is_same_star(star_1, star_2, epsilon):\n",
    "                        found = True\n",
    "                        matches.append((star_1[:2], star_2[:2]))\n",
    "                        break\n",
    "                if not found:\n",
    "                    mismatches += 1\n",
    "\n",
    "            if mismatches <= best_mismatch:\n",
    "                best_mismatch = mismatches\n",
    "                best_transform = (scale, R, translation)\n",
    "                best_matches = matches\n",
    "\n",
    "    return best_transform, best_mismatch, best_matches\n",
    "\n",
    "\n",
    "\n",
    "\n"
   ],
   "id": "f485820f5a9fb9df",
   "outputs": [],
   "execution_count": 11
  },
  {
   "metadata": {
    "ExecuteTime": {
     "end_time": "2025-04-30T13:41:05.178692Z",
     "start_time": "2025-04-30T13:41:04.539599Z"
    }
   },
   "cell_type": "code",
   "source": [
    "\n",
    "first_img_path = \"stars pics/fr1.jpg\"\n",
    "second_img_path = \"stars pics/ST_db1.png\"\n",
    "first_img_codrs = detect_stars(first_img_path)\n",
    "second_img_cords = detect_stars(second_img_path)"
   ],
   "id": "1f9c3ef75c7c235a",
   "outputs": [],
   "execution_count": 22
  },
  {
   "metadata": {
    "ExecuteTime": {
     "end_time": "2025-04-30T13:41:10.619916Z",
     "start_time": "2025-04-30T13:41:07.456206Z"
    }
   },
   "cell_type": "code",
   "source": [
    "from pprint import pprint\n",
    "\n",
    "transform, mismatches, matches = match_stars(first_img_path,second_img_path, X=2, epsilon=30.0)\n",
    "\n",
    "print(\"Best Scale:\", transform[0])\n",
    "print(\"Best Translation:\", transform[1])\n",
    "print(\"Unmatched Stars:\", mismatches)\n",
    "print(\"Matches:\")\n",
    "for pair in matches:\n",
    "    print(f\"  Sparse star {pair[0]} matched to Dense star {pair[1]}\")\n"
   ],
   "id": "a2ef593bf76418c3",
   "outputs": [
    {
     "name": "stdout",
     "output_type": "stream",
     "text": [
      "num of stars in sparse: 20\n",
      "num of stars in dense: 24\n",
      "Best Scale: 0.4773968045207758\n",
      "Best Translation: [[ 0.99567782 -0.09287449]\n",
      " [ 0.09287449  0.99567782]]\n",
      "Unmatched Stars: 18\n",
      "Matches:\n",
      "  Sparse star [478. 924.] matched to Dense star [478.77631035 921.14490306]\n",
      "  Sparse star [1044.5  678. ] matched to Dense star [1055.30171201  685.08273396]\n",
      "  Sparse star [991. 560.] matched to Dense star [988.73570213 558.2871206 ]\n",
      "  Sparse star [963.36364746 299.2727356 ] matched to Dense star [942.59844589 301.05127566]\n",
      "  Sparse star [658. 262.] matched to Dense star [657.22368965 264.85509694]\n",
      "  Sparse star [778. 157.] matched to Dense star [762.76058624 172.9412502 ]\n"
     ]
    }
   ],
   "execution_count": 23
  },
  {
   "metadata": {
    "ExecuteTime": {
     "end_time": "2025-04-30T13:41:16.239616Z",
     "start_time": "2025-04-30T13:41:16.227897Z"
    }
   },
   "cell_type": "code",
   "source": [
    "import matplotlib.pyplot as plt\n",
    "import numpy as np\n",
    "\n",
    "\n",
    "def plot_star_alignment(sparse, dense, transformed_sparse=None, matches=None):\n",
    "    sparse = np.array([s[:2] for s in sparse])\n",
    "    dense = np.array([d[:2] for d in dense])\n",
    "\n",
    "    fig, axes = plt.subplots(1, 2, figsize=(12, 6))\n",
    "\n",
    "    # Before transformation\n",
    "    axes[0].scatter(dense[:, 0], dense[:, 1], c='blue', label='Dense Stars')\n",
    "    axes[0].scatter(sparse[:, 0], sparse[:, 1], c='red', label='Sparse Stars')\n",
    "    axes[0].set_title(\"Before Transformation\")\n",
    "    axes[0].legend()\n",
    "    axes[0].invert_yaxis()\n",
    "    axes[0].set_aspect('equal')\n",
    "\n",
    "    # After transformation\n",
    "    if transformed_sparse is None:\n",
    "        transformed_sparse = apply_transform(sparse, *transform)\n",
    "\n",
    "    axes[1].scatter(dense[:, 0], dense[:, 1], c='green', label='Dense Stars')\n",
    "    axes[1].scatter(transformed_sparse[:, 0], transformed_sparse[:, 1], c='red', label='Transformed Sparse Stars')\n",
    "\n",
    "    if matches:\n",
    "        for sp, dp in matches:\n",
    "            axes[1].plot([sp[0], dp[0]], [sp[1], dp[1]], 'k--', linewidth=0.8)\n",
    "\n",
    "    axes[1].set_title(\"After Transformation\")\n",
    "    axes[1].legend()\n",
    "    axes[1].invert_yaxis()\n",
    "    axes[1].set_aspect('equal')\n",
    "\n",
    "    plt.tight_layout()\n",
    "    plt.show()\n"
   ],
   "id": "d28f973f32e69366",
   "outputs": [],
   "execution_count": 24
  },
  {
   "metadata": {
    "ExecuteTime": {
     "end_time": "2025-04-30T13:41:21.294417Z",
     "start_time": "2025-04-30T13:41:20.524541Z"
    }
   },
   "cell_type": "code",
   "source": [
    "# Example call (assuming you still have first_img and second_img loaded)\n",
    "plot_star_alignment(\n",
    "    first_img_codrs,\n",
    "    second_img_cords,\n",
    "    transformed_sparse=apply_transform(\n",
    "        np.array([s[:2] for s in detect_stars(first_img_path)]),\n",
    "        transform[0], transform[1], transform[2]\n",
    "    ),\n",
    "    matches=matches\n",
    ")"
   ],
   "id": "ea4b00799f1c7451",
   "outputs": [
    {
     "data": {
      "text/plain": [
       "<Figure size 1200x600 with 2 Axes>"
      ],
      "image/png": "[encoded data removed]"
     },
     "metadata": {},
     "output_type": "display_data"
    }
   ],
   "execution_count": 25
  }
 ],
 "metadata": {
  "kernelspec": {
   "display_name": "Python 3",
   "language": "python",
   "name": "python3"
  },
  "language_info": {
   "codemirror_mode": {
    "name": "ipython",
    "version": 2
   },
   "file_extension": ".py",
   "mimetype": "text/x-python",
   "name": "python",
   "nbconvert_exporter": "python",
   "pygments_lexer": "ipython2",
   "version": "2.7.6"
  }
 },
 "nbformat": 4,
 "nbformat_minor": 5
}
