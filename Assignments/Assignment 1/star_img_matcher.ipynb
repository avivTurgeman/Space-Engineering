{
 "cells": [
  {
   "cell_type": "code",
   "id": "initial_id",
   "metadata": {
    "collapsed": true,
    "ExecuteTime": {
     "end_time": "2025-05-06T08:10:18.335475Z",
     "start_time": "2025-05-06T08:10:18.327958Z"
    }
   },
   "source": [
    ""
   ],
   "outputs": [],
   "execution_count": null
  },
  {
   "metadata": {},
   "cell_type": "markdown",
   "source": [
    "Describe an algorithm that compares 2 images - one with few stars and one with many stars\n",
    "The algorithm matches each star in the small image to its corresponding star in the large image."
   ],
   "id": "d605ed7786710698"
  },
  {
   "metadata": {},
   "cell_type": "markdown",
   "source": [
    "- Inputs:\n",
    "    img_S: sparse image\n",
    "    img_L: dense image\n",
    "    X: The number of stars to use for alignment (e.g., 2 or 3).\n",
    "\n",
    "- Algorithm:\n",
    "    S ← A list of coordinates of stars in the sparse image and their radius and brightness (x,y,r,b).\n",
    "    L ← A list of coordinates of stars in the dense image their radius and brightness. (|L| > |S|).\n",
    "    1) bright_s ← 5 brightest stars of S\n",
    "\n",
    "    2) Generate Subsets:\n",
    "        Iterate over all combinations of X stars from bright_s — denote each as S_X.\n",
    "        For each S_X, iterate over all combinations of X stars from L — denote each as L_X.\n",
    "\n",
    "    3) Compute Transformation:\n",
    "        For each pair (S_X, L_X):\n",
    "        Estimate a geometric transformation (e.g., scaling + translation) that maps S_X onto L_X.\n",
    "        Apply this transformation to all stars in S, resulting in a transformed set S'.\n",
    "    4) Evaluate Fit:\n",
    "        For each star in S', check if there is a nearby star in L (within some small threshold distance ε).\n",
    "        Count the number of unmatched stars (stars in S' with no close counterpart in L).\n",
    "    5) Select Best Match:\n",
    "        Keep track of the transformation with the fewest unmatched stars.\n",
    "        Return this transformation (and optionally, the matching star pairs).\n",
    "\n",
    "    6) Output:\n",
    "        - The best matching transformation from the sparse image to the dense one.\n",
    "        - The minimal number of unmatched stars.\n",
    "        - Optionally, the list of matched star pairs.\n",
    "\n",
    "\n"
   ],
   "id": "b8a37c63323558bc"
  },
  {
   "metadata": {
    "ExecuteTime": {
     "end_time": "2025-05-06T08:10:19.905994Z",
     "start_time": "2025-05-06T08:10:18.725237Z"
    }
   },
   "cell_type": "code",
   "source": [
    "import numpy as np\n",
    "from itertools import combinations\n",
    "from scipy.spatial.distance import cdist\n",
    "from sqlalchemy import false\n",
    "\n",
    "from process_star_img import detect_stars\n",
    "\n",
    "import numpy as np\n",
    "from itertools import combinations\n",
    "from scipy.spatial.distance import cdist\n",
    "import random\n",
    "\n",
    "def compute_similarity_transform(src, dst):\n",
    "    src = np.array(src)\n",
    "    dst = np.array(dst)\n",
    "\n",
    "    src_mean = np.mean(src, axis=0)\n",
    "    dst_mean = np.mean(dst, axis=0)\n",
    "\n",
    "    src_centered = src - src_mean\n",
    "    dst_centered = dst - dst_mean\n",
    "\n",
    "    U, S, Vt = np.linalg.svd(np.dot(dst_centered.T, src_centered))\n",
    "    R = np.dot(U, Vt)\n",
    "\n",
    "    scale = np.trace(np.dot(dst_centered.T, np.dot(R, src_centered))) / np.sum(src_centered ** 2)\n",
    "    translation = dst_mean - scale * np.dot(src_mean, R.T)\n",
    "\n",
    "    return scale, R, translation\n",
    "\n",
    "def compute_exact_similarity_transform(src, dst):\n",
    "    \"\"\"\n",
    "    Assumes src and dst each contain exactly 2 points.\n",
    "    Returns scale, rotation matrix R, and translation vector t.\n",
    "    \"\"\"\n",
    "    src = np.array(src)\n",
    "    dst = np.array(dst)\n",
    "\n",
    "    # Compute scale\n",
    "    dist_src = np.linalg.norm(src[1] - src[0])\n",
    "    dist_dst = np.linalg.norm(dst[1] - dst[0])\n",
    "    scale = dist_dst / dist_src\n",
    "\n",
    "    # Compute rotation\n",
    "    vec_src = (src[1] - src[0]) / dist_src\n",
    "    vec_dst = (dst[1] - dst[0]) / dist_dst\n",
    "\n",
    "    angle = np.arctan2(vec_dst[1], vec_dst[0]) - np.arctan2(vec_src[1], vec_src[0])\n",
    "    cos_a, sin_a = np.cos(angle), np.sin(angle)\n",
    "    R = np.array([[cos_a, -sin_a], [sin_a, cos_a]])\n",
    "\n",
    "    # Compute translation\n",
    "    rotated_scaled_src0 = scale * np.dot(R, src[0])\n",
    "    translation = dst[0] - rotated_scaled_src0\n",
    "\n",
    "    return scale, R, translation\n",
    "\n",
    "\n",
    "def apply_transform(points, scale, rotation, translation, scale_radius=False):\n",
    "    points = np.array(points)\n",
    "    transformed = points.copy()\n",
    "    transformed[:, 0:2] = scale * np.dot(points[:, 0:2], rotation.T) + translation\n",
    "    if scale_radius:\n",
    "        transformed[:, 2] = scale * points[:, 2]\n",
    "    return transformed\n",
    "\n",
    "def match_stars(sparse_path, dense_path, X=2, epsilon=2.0, max_dense_combinations=2000, max_sparse_combinations=50):\n",
    "    sparse = detect_stars(sparse_path)\n",
    "    dense = detect_stars(dense_path)\n",
    "    sparse = np.array(sparse)\n",
    "    dense = np.array(dense)\n",
    "\n",
    "    print(\"num of stars in sparse:\", len(sparse))\n",
    "    print(\"num of stars in dense:\", len(dense))\n",
    "\n",
    "    # Keep the brightest stars\n",
    "    sparse = sorted(sparse, key=lambda s: s[2], reverse=True)[:15]\n",
    "    sparse = np.array(sparse)\n",
    "\n",
    "    best_mismatch = float('inf')\n",
    "    best_transform = None\n",
    "    best_matches = []\n",
    "\n",
    "    # Sample sparse combinations\n",
    "    sparse_combos = list(combinations(range(len(sparse)), X))\n",
    "    if len(sparse_combos) > max_sparse_combinations:\n",
    "        random.seed(0)\n",
    "        sparse_combos = random.sample(sparse_combos, max_sparse_combinations)\n",
    "\n",
    "    # Sample dense combinations\n",
    "    dense_indices = list(range(len(dense)))\n",
    "    if len(dense) >= X:\n",
    "        random.seed(1)\n",
    "        dense_combos = [tuple(random.sample(dense_indices, X)) for _ in range(min(max_dense_combinations, 2000))]\n",
    "    else:\n",
    "        dense_combos = list(combinations(dense_indices, X))\n",
    "\n",
    "    dense_xy = dense[:, :2]\n",
    "\n",
    "    for s_idx in sparse_combos:\n",
    "        S_X = sparse[list(s_idx), 0:2]\n",
    "\n",
    "        for d_idx in dense_combos:\n",
    "            L_X = dense[list(d_idx), 0:2]\n",
    "\n",
    "            scale, R, translation = compute_exact_similarity_transform(S_X, L_X)\n",
    "            if scale is None:\n",
    "                continue\n",
    "\n",
    "            # Rough match on top 10 sparse stars before full transform\n",
    "            partial_sparse = sparse[:10]\n",
    "            partial_transformed = apply_transform(partial_sparse, scale, R, translation, scale_radius=True)\n",
    "            partial_dists = cdist(dense_xy, partial_transformed[:, :2])\n",
    "            rough_mismatch = np.sum(np.min(partial_dists, axis=1) > epsilon)\n",
    "\n",
    "            if rough_mismatch > best_mismatch:\n",
    "                continue\n",
    "\n",
    "            transformed_sparse = apply_transform(sparse, scale, R, translation, scale_radius=True)\n",
    "            transformed_xy = transformed_sparse[:, :2]\n",
    "\n",
    "            dists = cdist(dense_xy, transformed_xy)\n",
    "            min_dists = np.min(dists, axis=1)\n",
    "            argmins = np.argmin(dists, axis=1)\n",
    "\n",
    "            matches = []\n",
    "            mismatches = 0\n",
    "            for i, dist in enumerate(min_dists):\n",
    "                if dist <= epsilon:\n",
    "                    matches.append((dense[i][:2].tolist(), transformed_sparse[argmins[i]][:2].tolist()))\n",
    "                else:\n",
    "                    mismatches += 1\n",
    "\n",
    "            if mismatches < best_mismatch:\n",
    "                best_mismatch = mismatches\n",
    "                best_transform = (scale, R, translation)\n",
    "                best_matches = matches\n",
    "\n",
    "                if mismatches == 0:\n",
    "                    return best_transform, best_mismatch, best_matches\n",
    "\n",
    "    return best_transform, best_mismatch, best_matches\n",
    "\n"
   ],
   "id": "f485820f5a9fb9df",
   "outputs": [],
   "execution_count": 1
  },
  {
   "metadata": {
    "ExecuteTime": {
     "end_time": "2025-05-06T08:10:20.779318Z",
     "start_time": "2025-05-06T08:10:19.924025Z"
    }
   },
   "cell_type": "code",
   "source": [
    "\n",
    "first_img_path = \"stars pics/fr1.jpg\"\n",
    "second_img_path = \"stars pics/ST_db1.png\"\n",
    "first_img_codrs = detect_stars(first_img_path)\n",
    "second_img_cords = detect_stars(second_img_path)"
   ],
   "id": "1f9c3ef75c7c235a",
   "outputs": [],
   "execution_count": 2
  },
  {
   "metadata": {
    "ExecuteTime": {
     "end_time": "2025-05-06T08:10:26.388076Z",
     "start_time": "2025-05-06T08:10:20.830293Z"
    }
   },
   "cell_type": "code",
   "source": [
    "from pprint import pprint\n",
    "\n",
    "transform, mismatches, matches = match_stars(first_img_path,second_img_path, X=2, epsilon=30.0)\n",
    "\n",
    "print(\"Best Scale:\", transform[0])\n",
    "print(\"Best Translation:\", transform[1])\n",
    "print(\"Unmatched Stars:\", mismatches)\n",
    "print(\"Matches:\")\n",
    "for pair in matches:\n",
    "    print(f\"  Sparse star {pair[0]} matched to Dense star {pair[1]}\")\n"
   ],
   "id": "a2ef593bf76418c3",
   "outputs": [
    {
     "name": "stdout",
     "output_type": "stream",
     "text": [
      "num of stars in sparse: 20\n",
      "num of stars in dense: 24\n",
      "Best Scale: 0.4797920416094764\n",
      "Best Translation: [[ 0.99555409 -0.09419162]\n",
      " [ 0.09419162  0.99555409]]\n",
      "Unmatched Stars: 17\n",
      "Matches:\n",
      "  Sparse star [478.0, 924.0] matched to Dense star [478.0, 924.0]\n",
      "  Sparse star [1044.5, 678.0] matched to Dense star [1057.7313488888954, 687.5201758800547]\n",
      "  Sparse star [991.0, 560.0] matched to Dense star [990.9999999999999, 560.0]\n",
      "  Sparse star [912.5, 422.125] matched to Dense star [901.5381106421106, 418.03990202381306]\n",
      "  Sparse star [963.3636474609375, 299.2727355957031] matched to Dense star [944.9733127612047, 301.4124124840264]\n",
      "  Sparse star [658.0, 262.0] matched to Dense star [658.2151255101713, 264.65523407523324]\n",
      "  Sparse star [778.0, 157.0] matched to Dense star [764.4036438662805, 172.42062834285798]\n"
     ]
    }
   ],
   "execution_count": 3
  },
  {
   "metadata": {
    "ExecuteTime": {
     "end_time": "2025-05-06T08:15:00.567157Z",
     "start_time": "2025-05-06T08:15:00.556922Z"
    }
   },
   "cell_type": "code",
   "source": [
    "import matplotlib.pyplot as plt\n",
    "import numpy as np\n",
    "\n",
    "\n",
    "def plot_star_alignment(sparse, dense, transformed_sparse=None, matches=None):\n",
    "    sparse = np.array([s[:2] for s in sparse])\n",
    "    dense = np.array([d[:2] for d in dense])\n",
    "\n",
    "    fig, axes = plt.subplots(1, 2, figsize=(12, 6))\n",
    "\n",
    "    # Before transformation\n",
    "    axes[0].scatter(dense[:, 0], dense[:, 1], c='blue', label='Dense Stars')\n",
    "    axes[0].scatter(sparse[:, 0], sparse[:, 1], c='red', label='Sparse Stars')\n",
    "    axes[0].set_title(\"Before Transformation\")\n",
    "    axes[0].legend()\n",
    "    axes[0].invert_yaxis()\n",
    "    axes[0].set_aspect('equal')\n",
    "\n",
    "\n",
    "    axes[1].scatter(dense[:, 0], dense[:, 1], c='green', label='Dense Stars')\n",
    "    axes[1].scatter(transformed_sparse[:, 0], transformed_sparse[:, 1], c='red', label='Transformed Sparse Stars')\n",
    "\n",
    "    if matches:\n",
    "        for sp, dp in matches:\n",
    "            axes[1].plot([sp[0], dp[0]], [sp[1], dp[1]], 'y--', linewidth=0.8)\n",
    "\n",
    "    axes[1].set_title(\"After Transformation\")\n",
    "    axes[1].legend()\n",
    "    axes[1].invert_yaxis()\n",
    "    axes[1].set_aspect('equal')\n",
    "\n",
    "    plt.tight_layout()\n",
    "    plt.show()\n"
   ],
   "id": "d28f973f32e69366",
   "outputs": [],
   "execution_count": 36
  },
  {
   "metadata": {
    "ExecuteTime": {
     "end_time": "2025-05-06T08:15:01.594903Z",
     "start_time": "2025-05-06T08:15:00.788912Z"
    }
   },
   "cell_type": "code",
   "source": [
    "# Example call (assuming you still have first_img and second_img loaded)\n",
    "transformed_sparse = apply_transform(\n",
    "    np.array(first_img_codrs),\n",
    "    transform[0], transform[1], transform[2],\n",
    "    scale_radius=True)\n",
    "\n",
    "plot_star_alignment(\n",
    "    first_img_codrs,\n",
    "    detect_stars(second_img_path, 2),\n",
    "    transformed_sparse=transformed_sparse,\n",
    "    matches=matches\n",
    ")"
   ],
   "id": "ea4b00799f1c7451",
   "outputs": [
    {
     "data": {
      "text/plain": [
       "<Figure size 1200x600 with 2 Axes>"
      ],
      "image/png": "[encoded data removed]"
     },
     "metadata": {},
     "output_type": "display_data"
    }
   ],
   "execution_count": 37
  },
  {
   "metadata": {},
   "cell_type": "code",
   "outputs": [],
   "execution_count": null,
   "source": "",
   "id": "f58b172ff22ce8f0"
  }
 ],
 "metadata": {
  "kernelspec": {
   "display_name": "Python 3",
   "language": "python",
   "name": "python3"
  },
  "language_info": {
   "codemirror_mode": {
    "name": "ipython",
    "version": 2
   },
   "file_extension": ".py",
   "mimetype": "text/x-python",
   "name": "python",
   "nbconvert_exporter": "python",
   "pygments_lexer": "ipython2",
   "version": "2.7.6"
  }
 },
 "nbformat": 4,
 "nbformat_minor": 5
}
